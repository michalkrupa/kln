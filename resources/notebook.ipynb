{
 "cells": [
  {
   "cell_type": "code",
   "execution_count": null,
   "id": "54d7e8b0",
   "metadata": {
    "vscode": {
     "languageId": "plaintext"
    }
   },
   "outputs": [],
   "source": [
    "import numpy as np\n",
    "import matplotlib.pyplot as plt\n",
    "\n",
    "# Create a grid\n",
    "i_grid = np.linspace(-1, 1, 200)\n",
    "j_grid = np.linspace(-1, 1, 200)\n",
    "ii, jj = np.meshgrid(i_grid, j_grid)\n",
    "\n",
    "# True function\n",
    "kk = np.sin(np.pi * ii) * np.cos(np.pi * jj)\n",
    "\n",
    "# Plot\n",
    "plt.figure(figsize=(8, 6))\n",
    "contour = plt.contourf(ii, jj, kk, levels=50, cmap='viridis')\n",
    "plt.colorbar(contour, label='True k = sin(pi*i)cos(pi*j)')\n",
    "plt.xlabel('i')\n",
    "plt.ylabel('j')\n",
    "plt.title('True Mapping of k given (i, j)')\n",
    "plt.tight_layout()\n",
    "plt.savefig(\"example_contour.png\")\n",
    "plt.show()"
   ]
  }
 ],
 "metadata": {
  "language_info": {
   "name": "python"
  }
 },
 "nbformat": 4,
 "nbformat_minor": 5
}
